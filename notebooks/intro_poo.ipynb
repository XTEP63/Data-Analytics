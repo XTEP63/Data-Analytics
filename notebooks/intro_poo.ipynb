{
 "cells": [
  {
   "cell_type": "code",
   "execution_count": 5,
   "metadata": {},
   "outputs": [
    {
     "name": "stdout",
     "output_type": "stream",
     "text": [
      "[400, 200.0, 100.0, 50.0, 25.0, 76.0, 38.0, 19.0, 58.0, 29.0, 88.0, 44.0, 22.0, 11.0, 34.0, 17.0, 52.0, 26.0, 13.0, 40.0, 20.0, 10.0, 5.0, 16.0, 8.0, 4.0, 2.0, 1.0]\n"
     ]
    }
   ],
   "source": [
    "def collatz(n):\n",
    "    conjetura_n = []\n",
    "    conjetura_n.append(n)\n",
    "    while(n != 1 ):\n",
    "        if n % 2 == 0:\n",
    "            n /= 2\n",
    "            conjetura_n.append(n)\n",
    "        elif n % 2 == 1:\n",
    "            n = (n*3) + 1\n",
    "            conjetura_n.append(n)\n",
    "    return conjetura_n"
   ]
  },
  {
   "cell_type": "code",
   "execution_count": 8,
   "metadata": {},
   "outputs": [
    {
     "name": "stdout",
     "output_type": "stream",
     "text": [
      "(20, 9)\n"
     ]
    }
   ],
   "source": [
    "def max_collatz_size(a = 1 ,b = 1):\n",
    "    max_size = 0\n",
    "    which_n = 0\n",
    "    for i in range(a,b+1):\n",
    "        if len(collatz(i)) > max_size: \n",
    "            max_size =len(collatz(i))\n",
    "            which_n = i\n",
    "    return max_size, which_n"
   ]
  },
  {
   "cell_type": "code",
   "execution_count": null,
   "metadata": {},
   "outputs": [],
   "source": []
  }
 ],
 "metadata": {
  "kernelspec": {
   "display_name": "DataAnalytics",
   "language": "python",
   "name": "python3"
  },
  "language_info": {
   "codemirror_mode": {
    "name": "ipython",
    "version": 3
   },
   "file_extension": ".py",
   "mimetype": "text/x-python",
   "name": "python",
   "nbconvert_exporter": "python",
   "pygments_lexer": "ipython3",
   "version": "3.10.13"
  }
 },
 "nbformat": 4,
 "nbformat_minor": 2
}
