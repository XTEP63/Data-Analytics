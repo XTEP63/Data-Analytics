{
 "cells": [
  {
   "cell_type": "code",
   "execution_count": 14,
   "metadata": {},
   "outputs": [],
   "source": [
    "def collatz(n):\n",
    "    conjetura_n = []\n",
    "    conjetura_n.append(n)\n",
    "    while(n != 1 ):\n",
    "        if n % 2 == 0:\n",
    "            n /= 2\n",
    "            conjetura_n.append(n)\n",
    "        elif n % 2 == 1:\n",
    "            n = (n*3) + 1\n",
    "            conjetura_n.append(n)\n",
    "    return conjetura_n"
   ]
  },
  {
   "cell_type": "code",
   "execution_count": 15,
   "metadata": {},
   "outputs": [],
   "source": [
    "def max_collatz_size(a = 1 ,b = 1):\n",
    "    max_size = 0\n",
    "    which_n = 0\n",
    "    for i in range(a,b+1):\n",
    "        if len(collatz(i)) > max_size: \n",
    "            max_size =len(collatz(i))\n",
    "            which_n = i\n",
    "    return max_size, which_n"
   ]
  },
  {
   "cell_type": "code",
   "execution_count": 16,
   "metadata": {},
   "outputs": [
    {
     "name": "stdout",
     "output_type": "stream",
     "text": [
      "Hola calculare cual es el numero con la major conhetura de collatz para un rango que me des\n",
      "El numero con la conjetura mas grande es 837799 con una conjetura de 525\n"
     ]
    }
   ],
   "source": [
    "def main():\n",
    "    print(\"Hola calculare cual es el numero con la major conhetura de collatz para un rango que me des\")\n",
    "    a = 0\n",
    "    b = 0 \n",
    "    while(True):\n",
    "        \n",
    "        a = int(input(\"Dame el primer nuemero: \"))\n",
    "        b = int(input(\"Dame el segundo nuemero: \"))\n",
    "        if a > b:\n",
    "            print(\"El segundo numero debe de se mayor que el primer numero -_-\")\n",
    "            print(\"\\nIntenta otra vez\")\n",
    "            continue\n",
    "        else: break\n",
    "    size, n = max_collatz_size(a,b)\n",
    "    \n",
    "    print(\"El numero con la conjetura mas grande es {} con una conjetura de {}\".format(n,size))\n",
    "    \n",
    "main()"
   ]
  }
 ],
 "metadata": {
  "kernelspec": {
   "display_name": "DataAnalytics",
   "language": "python",
   "name": "python3"
  },
  "language_info": {
   "codemirror_mode": {
    "name": "ipython",
    "version": 3
   },
   "file_extension": ".py",
   "mimetype": "text/x-python",
   "name": "python",
   "nbconvert_exporter": "python",
   "pygments_lexer": "ipython3",
   "version": "3.10.13"
  }
 },
 "nbformat": 4,
 "nbformat_minor": 2
}
