{
 "cells": [
  {
   "cell_type": "code",
   "execution_count": 2,
   "metadata": {},
   "outputs": [],
   "source": [
    "import pandas as pd \n",
    "import sweetviz as sv"
   ]
  },
  {
   "cell_type": "code",
   "execution_count": 3,
   "metadata": {},
   "outputs": [],
   "source": [
    "path = \"../data/raw/ejalisco2016.csv\"\n",
    "df = pd.read_csv(path, encoding= \"ISO-8859-1\")"
   ]
  },
  {
   "cell_type": "code",
   "execution_count": 4,
   "metadata": {},
   "outputs": [
    {
     "name": "stdout",
     "output_type": "stream",
     "text": [
      "<class 'pandas.core.frame.DataFrame'>\n",
      "RangeIndex: 6675 entries, 0 to 6674\n",
      "Data columns (total 15 columns):\n",
      " #   Column                          Non-Null Count  Dtype \n",
      "---  ------                          --------------  ----- \n",
      " 0   CLAVE DE INMUEBLE               6675 non-null   object\n",
      " 1   TECNOLOGIA INSTALADA            6673 non-null   object\n",
      " 2   ANCHO DE BANDA CONTRATADO 2014  6674 non-null   object\n",
      " 3   INSTITUCION                     6675 non-null   object\n",
      " 4   NOMBRE DEL CENTRO               6670 non-null   object\n",
      " 5   TURNO/HORARIO                   6633 non-null   object\n",
      " 6   NIVEL                           6631 non-null   object\n",
      " 7   REGION                          6662 non-null   object\n",
      " 8   MUNICIPIO                       6673 non-null   object\n",
      " 9   LOCALIDAD                       6661 non-null   object\n",
      " 10  DOMICILIO                       6674 non-null   object\n",
      " 11  CODIGO POSTAL                   6646 non-null   object\n",
      " 12  LONGITUD                        6623 non-null   object\n",
      " 13  LATITUD                         6623 non-null   object\n",
      " 14  ESTATUS                         6675 non-null   object\n",
      "dtypes: object(15)\n",
      "memory usage: 782.4+ KB\n"
     ]
    }
   ],
   "source": [
    "df.info()"
   ]
  },
  {
   "cell_type": "code",
   "execution_count": 5,
   "metadata": {},
   "outputs": [
    {
     "data": {
      "text/html": [
       "<div>\n",
       "<style scoped>\n",
       "    .dataframe tbody tr th:only-of-type {\n",
       "        vertical-align: middle;\n",
       "    }\n",
       "\n",
       "    .dataframe tbody tr th {\n",
       "        vertical-align: top;\n",
       "    }\n",
       "\n",
       "    .dataframe thead th {\n",
       "        text-align: right;\n",
       "    }\n",
       "</style>\n",
       "<table border=\"1\" class=\"dataframe\">\n",
       "  <thead>\n",
       "    <tr style=\"text-align: right;\">\n",
       "      <th></th>\n",
       "      <th>CLAVE DE INMUEBLE</th>\n",
       "      <th>TECNOLOGIA INSTALADA</th>\n",
       "      <th>ANCHO DE BANDA CONTRATADO 2014</th>\n",
       "      <th>INSTITUCION</th>\n",
       "      <th>NOMBRE DEL CENTRO</th>\n",
       "      <th>TURNO/HORARIO</th>\n",
       "      <th>NIVEL</th>\n",
       "      <th>REGION</th>\n",
       "      <th>MUNICIPIO</th>\n",
       "      <th>LOCALIDAD</th>\n",
       "      <th>DOMICILIO</th>\n",
       "      <th>CODIGO POSTAL</th>\n",
       "      <th>LONGITUD</th>\n",
       "      <th>LATITUD</th>\n",
       "      <th>ESTATUS</th>\n",
       "    </tr>\n",
       "  </thead>\n",
       "  <tbody>\n",
       "    <tr>\n",
       "      <th>count</th>\n",
       "      <td>6675</td>\n",
       "      <td>6673</td>\n",
       "      <td>6674</td>\n",
       "      <td>6675</td>\n",
       "      <td>6670</td>\n",
       "      <td>6633</td>\n",
       "      <td>6631</td>\n",
       "      <td>6662</td>\n",
       "      <td>6673</td>\n",
       "      <td>6661</td>\n",
       "      <td>6674</td>\n",
       "      <td>6646</td>\n",
       "      <td>6623</td>\n",
       "      <td>6623</td>\n",
       "      <td>6675</td>\n",
       "    </tr>\n",
       "    <tr>\n",
       "      <th>unique</th>\n",
       "      <td>5675</td>\n",
       "      <td>5</td>\n",
       "      <td>7</td>\n",
       "      <td>26</td>\n",
       "      <td>3070</td>\n",
       "      <td>82</td>\n",
       "      <td>111</td>\n",
       "      <td>15</td>\n",
       "      <td>134</td>\n",
       "      <td>1043</td>\n",
       "      <td>4749</td>\n",
       "      <td>717</td>\n",
       "      <td>4815</td>\n",
       "      <td>4729</td>\n",
       "      <td>3</td>\n",
       "    </tr>\n",
       "    <tr>\n",
       "      <th>top</th>\n",
       "      <td>1408213B</td>\n",
       "      <td>iMAX</td>\n",
       "      <td>2 MB</td>\n",
       "      <td>SEJ</td>\n",
       "      <td>N/D</td>\n",
       "      <td>MATUTINO</td>\n",
       "      <td>PRIMARIA</td>\n",
       "      <td>CENTRO</td>\n",
       "      <td>GUADALAJARA</td>\n",
       "      <td>GUADALAJARA</td>\n",
       "      <td>CONOCIDO</td>\n",
       "      <td>N/D</td>\n",
       "      <td>-103.3919444</td>\n",
       "      <td>20.6763889</td>\n",
       "      <td>SUSPENDIDO</td>\n",
       "    </tr>\n",
       "    <tr>\n",
       "      <th>freq</th>\n",
       "      <td>19</td>\n",
       "      <td>3900</td>\n",
       "      <td>5458</td>\n",
       "      <td>4991</td>\n",
       "      <td>305</td>\n",
       "      <td>3650</td>\n",
       "      <td>2424</td>\n",
       "      <td>2748</td>\n",
       "      <td>794</td>\n",
       "      <td>733</td>\n",
       "      <td>470</td>\n",
       "      <td>613</td>\n",
       "      <td>30</td>\n",
       "      <td>31</td>\n",
       "      <td>2774</td>\n",
       "    </tr>\n",
       "  </tbody>\n",
       "</table>\n",
       "</div>"
      ],
      "text/plain": [
       "       CLAVE DE INMUEBLE TECNOLOGIA INSTALADA ANCHO DE BANDA CONTRATADO 2014  \\\n",
       "count               6675                 6673                           6674   \n",
       "unique              5675                    5                              7   \n",
       "top             1408213B                 iMAX                           2 MB   \n",
       "freq                  19                 3900                           5458   \n",
       "\n",
       "       INSTITUCION NOMBRE DEL CENTRO TURNO/HORARIO     NIVEL  REGION  \\\n",
       "count         6675              6670          6633      6631    6662   \n",
       "unique          26              3070            82       111      15   \n",
       "top            SEJ               N/D      MATUTINO  PRIMARIA  CENTRO   \n",
       "freq          4991               305          3650      2424    2748   \n",
       "\n",
       "          MUNICIPIO    LOCALIDAD DOMICILIO CODIGO POSTAL      LONGITUD  \\\n",
       "count          6673         6661      6674          6646          6623   \n",
       "unique          134         1043      4749           717          4815   \n",
       "top     GUADALAJARA  GUADALAJARA  CONOCIDO           N/D  -103.3919444   \n",
       "freq            794          733       470           613            30   \n",
       "\n",
       "           LATITUD     ESTATUS  \n",
       "count         6623        6675  \n",
       "unique        4729           3  \n",
       "top     20.6763889  SUSPENDIDO  \n",
       "freq            31        2774  "
      ]
     },
     "execution_count": 5,
     "metadata": {},
     "output_type": "execute_result"
    }
   ],
   "source": [
    "df.describe()"
   ]
  },
  {
   "cell_type": "code",
   "execution_count": 12,
   "metadata": {},
   "outputs": [
    {
     "data": {
      "text/plain": [
       "ESTATUS\n",
       "SUSPENDIDO      2774\n",
       "SIN SERVICIO    2211\n",
       "ACTIVO          1690\n",
       "Name: count, dtype: int64"
      ]
     },
     "execution_count": 12,
     "metadata": {},
     "output_type": "execute_result"
    }
   ],
   "source": [
    "df[\"ESTATUS\"].value_counts()"
   ]
  },
  {
   "cell_type": "code",
   "execution_count": 18,
   "metadata": {},
   "outputs": [
    {
     "data": {
      "text/html": [
       "<div>\n",
       "<style scoped>\n",
       "    .dataframe tbody tr th:only-of-type {\n",
       "        vertical-align: middle;\n",
       "    }\n",
       "\n",
       "    .dataframe tbody tr th {\n",
       "        vertical-align: top;\n",
       "    }\n",
       "\n",
       "    .dataframe thead th {\n",
       "        text-align: right;\n",
       "    }\n",
       "</style>\n",
       "<table border=\"1\" class=\"dataframe\">\n",
       "  <thead>\n",
       "    <tr style=\"text-align: right;\">\n",
       "      <th></th>\n",
       "      <th>CLAVE DE INMUEBLE</th>\n",
       "      <th>TECNOLOGIA INSTALADA</th>\n",
       "      <th>ANCHO DE BANDA CONTRATADO 2014</th>\n",
       "      <th>INSTITUCION</th>\n",
       "      <th>NOMBRE DEL CENTRO</th>\n",
       "      <th>TURNO/HORARIO</th>\n",
       "      <th>NIVEL</th>\n",
       "      <th>REGION</th>\n",
       "      <th>MUNICIPIO</th>\n",
       "      <th>LOCALIDAD</th>\n",
       "      <th>DOMICILIO</th>\n",
       "      <th>CODIGO POSTAL</th>\n",
       "      <th>LONGITUD</th>\n",
       "      <th>LATITUD</th>\n",
       "      <th>ESTATUS</th>\n",
       "    </tr>\n",
       "  </thead>\n",
       "  <tbody>\n",
       "    <tr>\n",
       "      <th>0</th>\n",
       "      <td>14000098</td>\n",
       "      <td>iMAX</td>\n",
       "      <td>2 MB</td>\n",
       "      <td>SEJ</td>\n",
       "      <td>NOMBRE EN TRAMITE</td>\n",
       "      <td>MATUTINO</td>\n",
       "      <td>PRIMARIA</td>\n",
       "      <td>CENTRO</td>\n",
       "      <td>TLAJOMULCO DE ZUÑIGA</td>\n",
       "      <td>TLAJOMULCO DE ZUÑIGA</td>\n",
       "      <td>COL. DEL ROBLE ZONA 198 SECTOR 26</td>\n",
       "      <td>45640</td>\n",
       "      <td>103¡23'58.20</td>\n",
       "      <td>20¡30'18.00</td>\n",
       "      <td>ACTIVO</td>\n",
       "    </tr>\n",
       "    <tr>\n",
       "      <th>1</th>\n",
       "      <td>105SP</td>\n",
       "      <td>iMAX</td>\n",
       "      <td>2 MB</td>\n",
       "      <td>GOB</td>\n",
       "      <td>NaN</td>\n",
       "      <td>N/D</td>\n",
       "      <td>NaN</td>\n",
       "      <td>SUR</td>\n",
       "      <td>ZAPOTLAN EL GRANDE</td>\n",
       "      <td>NaN</td>\n",
       "      <td>CONOCIDO</td>\n",
       "      <td>NaN</td>\n",
       "      <td>103 27 51.4</td>\n",
       "      <td>19 42 9.7</td>\n",
       "      <td>ACTIVO</td>\n",
       "    </tr>\n",
       "    <tr>\n",
       "      <th>2</th>\n",
       "      <td>108SP</td>\n",
       "      <td>iMAX</td>\n",
       "      <td>2 MB</td>\n",
       "      <td>GOB</td>\n",
       "      <td>N/D</td>\n",
       "      <td>N/D</td>\n",
       "      <td>N/D</td>\n",
       "      <td>COSTA ORTE</td>\n",
       "      <td>PUERTO VALLARTA</td>\n",
       "      <td>N/D</td>\n",
       "      <td>CONOCIDO</td>\n",
       "      <td>N/D</td>\n",
       "      <td>105 13 32.5</td>\n",
       "      <td>20 38 53.7</td>\n",
       "      <td>ACTIVO</td>\n",
       "    </tr>\n",
       "    <tr>\n",
       "      <th>3</th>\n",
       "      <td>021IEE</td>\n",
       "      <td>iMAX</td>\n",
       "      <td>2 MB</td>\n",
       "      <td>BIBLIOTECAS</td>\n",
       "      <td>N/D</td>\n",
       "      <td>N/D</td>\n",
       "      <td>N/D</td>\n",
       "      <td>CIENEGA</td>\n",
       "      <td>OCOTLAN</td>\n",
       "      <td>N/D</td>\n",
       "      <td>N/D</td>\n",
       "      <td>N/D</td>\n",
       "      <td>102 46 30.30</td>\n",
       "      <td>20 21 46.8</td>\n",
       "      <td>ACTIVO</td>\n",
       "    </tr>\n",
       "    <tr>\n",
       "      <th>4</th>\n",
       "      <td>057IEE</td>\n",
       "      <td>iMAX</td>\n",
       "      <td>2 MB</td>\n",
       "      <td>IEEA</td>\n",
       "      <td>N/D</td>\n",
       "      <td>N/D</td>\n",
       "      <td>N/D</td>\n",
       "      <td>COSTA SUR</td>\n",
       "      <td>VILLA PURIFICACIîN</td>\n",
       "      <td>N/D</td>\n",
       "      <td>ABASOLO # 174  COL. CENTRO C.P. 48800</td>\n",
       "      <td>48800</td>\n",
       "      <td>-104.6028806</td>\n",
       "      <td>19.7196083</td>\n",
       "      <td>ACTIVO</td>\n",
       "    </tr>\n",
       "  </tbody>\n",
       "</table>\n",
       "</div>"
      ],
      "text/plain": [
       "  CLAVE DE INMUEBLE TECNOLOGIA INSTALADA ANCHO DE BANDA CONTRATADO 2014  \\\n",
       "0          14000098                 iMAX                           2 MB   \n",
       "1             105SP                 iMAX                           2 MB   \n",
       "2             108SP                 iMAX                           2 MB   \n",
       "3            021IEE                 iMAX                           2 MB   \n",
       "4            057IEE                 iMAX                           2 MB   \n",
       "\n",
       "   INSTITUCION  NOMBRE DEL CENTRO TURNO/HORARIO     NIVEL      REGION  \\\n",
       "0          SEJ  NOMBRE EN TRAMITE      MATUTINO  PRIMARIA      CENTRO   \n",
       "1          GOB                NaN           N/D       NaN         SUR   \n",
       "2          GOB                N/D           N/D       N/D  COSTA ORTE   \n",
       "3  BIBLIOTECAS                N/D           N/D       N/D     CIENEGA   \n",
       "4         IEEA                N/D           N/D       N/D   COSTA SUR   \n",
       "\n",
       "              MUNICIPIO             LOCALIDAD  \\\n",
       "0  TLAJOMULCO DE ZUÑIGA  TLAJOMULCO DE ZUÑIGA   \n",
       "1    ZAPOTLAN EL GRANDE                   NaN   \n",
       "2       PUERTO VALLARTA                   N/D   \n",
       "3               OCOTLAN                   N/D   \n",
       "4    VILLA PURIFICACIîN                   N/D   \n",
       "\n",
       "                                DOMICILIO CODIGO POSTAL        LONGITUD  \\\n",
       "0       COL. DEL ROBLE ZONA 198 SECTOR 26         45640    103¡23'58.20   \n",
       "1                                CONOCIDO           NaN   103 27 51.4     \n",
       "2                                CONOCIDO           N/D   105 13 32.5     \n",
       "3                                     N/D           N/D  102 46 30.30     \n",
       "4  ABASOLO # 174  COL. CENTRO C.P. 48800          48800    -104.6028806   \n",
       "\n",
       "         LATITUD ESTATUS  \n",
       "0   20¡30'18.00   ACTIVO  \n",
       "1     19 42 9.7   ACTIVO  \n",
       "2    20 38 53.7   ACTIVO  \n",
       "3    20 21 46.8   ACTIVO  \n",
       "4     19.7196083  ACTIVO  "
      ]
     },
     "execution_count": 18,
     "metadata": {},
     "output_type": "execute_result"
    }
   ],
   "source": [
    "df.head()"
   ]
  },
  {
   "cell_type": "code",
   "execution_count": 39,
   "metadata": {},
   "outputs": [],
   "source": [
    "df[\"ANCHO DE BANDA CONTRATADO 2014\"].fillna(df[\"ANCHO DE BANDA CONTRATADO 2014\"].mode, inplace= True)\n",
    "\n"
   ]
  },
  {
   "cell_type": "code",
   "execution_count": 33,
   "metadata": {},
   "outputs": [
    {
     "ename": "TypeError",
     "evalue": "can only concatenate str (not \"method\") to str",
     "output_type": "error",
     "traceback": [
      "\u001b[1;31m---------------------------------------------------------------------------\u001b[0m",
      "\u001b[1;31mTypeError\u001b[0m                                 Traceback (most recent call last)",
      "Cell \u001b[1;32mIn[33], line 1\u001b[0m\n\u001b[1;32m----> 1\u001b[0m target_mean \u001b[38;5;241m=\u001b[39m \u001b[43mdf\u001b[49m\u001b[43m[\u001b[49m\u001b[38;5;124;43m\"\u001b[39;49m\u001b[38;5;124;43mANCHO DE BANDA CONTRATADO 2014\u001b[39;49m\u001b[38;5;124;43m\"\u001b[39;49m\u001b[43m]\u001b[49m\u001b[38;5;241;43m.\u001b[39;49m\u001b[43mmean\u001b[49m\u001b[43m(\u001b[49m\u001b[43m)\u001b[49m\n",
      "File \u001b[1;32mc:\\Users\\esteb\\anaconda3\\envs\\DataClass\\lib\\site-packages\\pandas\\core\\series.py:6225\u001b[0m, in \u001b[0;36mSeries.mean\u001b[1;34m(self, axis, skipna, numeric_only, **kwargs)\u001b[0m\n\u001b[0;32m   6217\u001b[0m \u001b[38;5;129m@doc\u001b[39m(make_doc(\u001b[38;5;124m\"\u001b[39m\u001b[38;5;124mmean\u001b[39m\u001b[38;5;124m\"\u001b[39m, ndim\u001b[38;5;241m=\u001b[39m\u001b[38;5;241m1\u001b[39m))\n\u001b[0;32m   6218\u001b[0m \u001b[38;5;28;01mdef\u001b[39;00m \u001b[38;5;21mmean\u001b[39m(\n\u001b[0;32m   6219\u001b[0m     \u001b[38;5;28mself\u001b[39m,\n\u001b[1;32m   (...)\u001b[0m\n\u001b[0;32m   6223\u001b[0m     \u001b[38;5;241m*\u001b[39m\u001b[38;5;241m*\u001b[39mkwargs,\n\u001b[0;32m   6224\u001b[0m ):\n\u001b[1;32m-> 6225\u001b[0m     \u001b[38;5;28;01mreturn\u001b[39;00m NDFrame\u001b[38;5;241m.\u001b[39mmean(\u001b[38;5;28mself\u001b[39m, axis, skipna, numeric_only, \u001b[38;5;241m*\u001b[39m\u001b[38;5;241m*\u001b[39mkwargs)\n",
      "File \u001b[1;32mc:\\Users\\esteb\\anaconda3\\envs\\DataClass\\lib\\site-packages\\pandas\\core\\generic.py:11992\u001b[0m, in \u001b[0;36mNDFrame.mean\u001b[1;34m(self, axis, skipna, numeric_only, **kwargs)\u001b[0m\n\u001b[0;32m  11985\u001b[0m \u001b[38;5;28;01mdef\u001b[39;00m \u001b[38;5;21mmean\u001b[39m(\n\u001b[0;32m  11986\u001b[0m     \u001b[38;5;28mself\u001b[39m,\n\u001b[0;32m  11987\u001b[0m     axis: Axis \u001b[38;5;241m|\u001b[39m \u001b[38;5;28;01mNone\u001b[39;00m \u001b[38;5;241m=\u001b[39m \u001b[38;5;241m0\u001b[39m,\n\u001b[1;32m   (...)\u001b[0m\n\u001b[0;32m  11990\u001b[0m     \u001b[38;5;241m*\u001b[39m\u001b[38;5;241m*\u001b[39mkwargs,\n\u001b[0;32m  11991\u001b[0m ) \u001b[38;5;241m-\u001b[39m\u001b[38;5;241m>\u001b[39m Series \u001b[38;5;241m|\u001b[39m \u001b[38;5;28mfloat\u001b[39m:\n\u001b[1;32m> 11992\u001b[0m     \u001b[38;5;28;01mreturn\u001b[39;00m \u001b[38;5;28mself\u001b[39m\u001b[38;5;241m.\u001b[39m_stat_function(\n\u001b[0;32m  11993\u001b[0m         \u001b[38;5;124m\"\u001b[39m\u001b[38;5;124mmean\u001b[39m\u001b[38;5;124m\"\u001b[39m, nanops\u001b[38;5;241m.\u001b[39mnanmean, axis, skipna, numeric_only, \u001b[38;5;241m*\u001b[39m\u001b[38;5;241m*\u001b[39mkwargs\n\u001b[0;32m  11994\u001b[0m     )\n",
      "File \u001b[1;32mc:\\Users\\esteb\\anaconda3\\envs\\DataClass\\lib\\site-packages\\pandas\\core\\generic.py:11949\u001b[0m, in \u001b[0;36mNDFrame._stat_function\u001b[1;34m(self, name, func, axis, skipna, numeric_only, **kwargs)\u001b[0m\n\u001b[0;32m  11945\u001b[0m nv\u001b[38;5;241m.\u001b[39mvalidate_func(name, (), kwargs)\n\u001b[0;32m  11947\u001b[0m validate_bool_kwarg(skipna, \u001b[38;5;124m\"\u001b[39m\u001b[38;5;124mskipna\u001b[39m\u001b[38;5;124m\"\u001b[39m, none_allowed\u001b[38;5;241m=\u001b[39m\u001b[38;5;28;01mFalse\u001b[39;00m)\n\u001b[1;32m> 11949\u001b[0m \u001b[38;5;28;01mreturn\u001b[39;00m \u001b[38;5;28;43mself\u001b[39;49m\u001b[38;5;241;43m.\u001b[39;49m\u001b[43m_reduce\u001b[49m\u001b[43m(\u001b[49m\n\u001b[0;32m  11950\u001b[0m \u001b[43m    \u001b[49m\u001b[43mfunc\u001b[49m\u001b[43m,\u001b[49m\u001b[43m \u001b[49m\u001b[43mname\u001b[49m\u001b[38;5;241;43m=\u001b[39;49m\u001b[43mname\u001b[49m\u001b[43m,\u001b[49m\u001b[43m \u001b[49m\u001b[43maxis\u001b[49m\u001b[38;5;241;43m=\u001b[39;49m\u001b[43maxis\u001b[49m\u001b[43m,\u001b[49m\u001b[43m \u001b[49m\u001b[43mskipna\u001b[49m\u001b[38;5;241;43m=\u001b[39;49m\u001b[43mskipna\u001b[49m\u001b[43m,\u001b[49m\u001b[43m \u001b[49m\u001b[43mnumeric_only\u001b[49m\u001b[38;5;241;43m=\u001b[39;49m\u001b[43mnumeric_only\u001b[49m\n\u001b[0;32m  11951\u001b[0m \u001b[43m\u001b[49m\u001b[43m)\u001b[49m\n",
      "File \u001b[1;32mc:\\Users\\esteb\\anaconda3\\envs\\DataClass\\lib\\site-packages\\pandas\\core\\series.py:6133\u001b[0m, in \u001b[0;36mSeries._reduce\u001b[1;34m(self, op, name, axis, skipna, numeric_only, filter_type, **kwds)\u001b[0m\n\u001b[0;32m   6128\u001b[0m     \u001b[38;5;66;03m# GH#47500 - change to TypeError to match other methods\u001b[39;00m\n\u001b[0;32m   6129\u001b[0m     \u001b[38;5;28;01mraise\u001b[39;00m \u001b[38;5;167;01mTypeError\u001b[39;00m(\n\u001b[0;32m   6130\u001b[0m         \u001b[38;5;124mf\u001b[39m\u001b[38;5;124m\"\u001b[39m\u001b[38;5;124mSeries.\u001b[39m\u001b[38;5;132;01m{\u001b[39;00mname\u001b[38;5;132;01m}\u001b[39;00m\u001b[38;5;124m does not allow \u001b[39m\u001b[38;5;132;01m{\u001b[39;00mkwd_name\u001b[38;5;132;01m}\u001b[39;00m\u001b[38;5;124m=\u001b[39m\u001b[38;5;132;01m{\u001b[39;00mnumeric_only\u001b[38;5;132;01m}\u001b[39;00m\u001b[38;5;124m \u001b[39m\u001b[38;5;124m\"\u001b[39m\n\u001b[0;32m   6131\u001b[0m         \u001b[38;5;124m\"\u001b[39m\u001b[38;5;124mwith non-numeric dtypes.\u001b[39m\u001b[38;5;124m\"\u001b[39m\n\u001b[0;32m   6132\u001b[0m     )\n\u001b[1;32m-> 6133\u001b[0m \u001b[38;5;28;01mreturn\u001b[39;00m op(delegate, skipna\u001b[38;5;241m=\u001b[39mskipna, \u001b[38;5;241m*\u001b[39m\u001b[38;5;241m*\u001b[39mkwds)\n",
      "File \u001b[1;32mc:\\Users\\esteb\\anaconda3\\envs\\DataClass\\lib\\site-packages\\pandas\\core\\nanops.py:147\u001b[0m, in \u001b[0;36mbottleneck_switch.__call__.<locals>.f\u001b[1;34m(values, axis, skipna, **kwds)\u001b[0m\n\u001b[0;32m    145\u001b[0m         result \u001b[38;5;241m=\u001b[39m alt(values, axis\u001b[38;5;241m=\u001b[39maxis, skipna\u001b[38;5;241m=\u001b[39mskipna, \u001b[38;5;241m*\u001b[39m\u001b[38;5;241m*\u001b[39mkwds)\n\u001b[0;32m    146\u001b[0m \u001b[38;5;28;01melse\u001b[39;00m:\n\u001b[1;32m--> 147\u001b[0m     result \u001b[38;5;241m=\u001b[39m alt(values, axis\u001b[38;5;241m=\u001b[39maxis, skipna\u001b[38;5;241m=\u001b[39mskipna, \u001b[38;5;241m*\u001b[39m\u001b[38;5;241m*\u001b[39mkwds)\n\u001b[0;32m    149\u001b[0m \u001b[38;5;28;01mreturn\u001b[39;00m result\n",
      "File \u001b[1;32mc:\\Users\\esteb\\anaconda3\\envs\\DataClass\\lib\\site-packages\\pandas\\core\\nanops.py:404\u001b[0m, in \u001b[0;36m_datetimelike_compat.<locals>.new_func\u001b[1;34m(values, axis, skipna, mask, **kwargs)\u001b[0m\n\u001b[0;32m    401\u001b[0m \u001b[38;5;28;01mif\u001b[39;00m datetimelike \u001b[38;5;129;01mand\u001b[39;00m mask \u001b[38;5;129;01mis\u001b[39;00m \u001b[38;5;28;01mNone\u001b[39;00m:\n\u001b[0;32m    402\u001b[0m     mask \u001b[38;5;241m=\u001b[39m isna(values)\n\u001b[1;32m--> 404\u001b[0m result \u001b[38;5;241m=\u001b[39m func(values, axis\u001b[38;5;241m=\u001b[39maxis, skipna\u001b[38;5;241m=\u001b[39mskipna, mask\u001b[38;5;241m=\u001b[39mmask, \u001b[38;5;241m*\u001b[39m\u001b[38;5;241m*\u001b[39mkwargs)\n\u001b[0;32m    406\u001b[0m \u001b[38;5;28;01mif\u001b[39;00m datetimelike:\n\u001b[0;32m    407\u001b[0m     result \u001b[38;5;241m=\u001b[39m _wrap_results(result, orig_values\u001b[38;5;241m.\u001b[39mdtype, fill_value\u001b[38;5;241m=\u001b[39miNaT)\n",
      "File \u001b[1;32mc:\\Users\\esteb\\anaconda3\\envs\\DataClass\\lib\\site-packages\\pandas\\core\\nanops.py:719\u001b[0m, in \u001b[0;36mnanmean\u001b[1;34m(values, axis, skipna, mask)\u001b[0m\n\u001b[0;32m    716\u001b[0m     dtype_count \u001b[38;5;241m=\u001b[39m dtype\n\u001b[0;32m    718\u001b[0m count \u001b[38;5;241m=\u001b[39m _get_counts(values\u001b[38;5;241m.\u001b[39mshape, mask, axis, dtype\u001b[38;5;241m=\u001b[39mdtype_count)\n\u001b[1;32m--> 719\u001b[0m the_sum \u001b[38;5;241m=\u001b[39m \u001b[43mvalues\u001b[49m\u001b[38;5;241;43m.\u001b[39;49m\u001b[43msum\u001b[49m\u001b[43m(\u001b[49m\u001b[43maxis\u001b[49m\u001b[43m,\u001b[49m\u001b[43m \u001b[49m\u001b[43mdtype\u001b[49m\u001b[38;5;241;43m=\u001b[39;49m\u001b[43mdtype_sum\u001b[49m\u001b[43m)\u001b[49m\n\u001b[0;32m    720\u001b[0m the_sum \u001b[38;5;241m=\u001b[39m _ensure_numeric(the_sum)\n\u001b[0;32m    722\u001b[0m \u001b[38;5;28;01mif\u001b[39;00m axis \u001b[38;5;129;01mis\u001b[39;00m \u001b[38;5;129;01mnot\u001b[39;00m \u001b[38;5;28;01mNone\u001b[39;00m \u001b[38;5;129;01mand\u001b[39;00m \u001b[38;5;28mgetattr\u001b[39m(the_sum, \u001b[38;5;124m\"\u001b[39m\u001b[38;5;124mndim\u001b[39m\u001b[38;5;124m\"\u001b[39m, \u001b[38;5;28;01mFalse\u001b[39;00m):\n",
      "File \u001b[1;32mc:\\Users\\esteb\\anaconda3\\envs\\DataClass\\lib\\site-packages\\numpy\\core\\_methods.py:49\u001b[0m, in \u001b[0;36m_sum\u001b[1;34m(a, axis, dtype, out, keepdims, initial, where)\u001b[0m\n\u001b[0;32m     47\u001b[0m \u001b[38;5;28;01mdef\u001b[39;00m \u001b[38;5;21m_sum\u001b[39m(a, axis\u001b[38;5;241m=\u001b[39m\u001b[38;5;28;01mNone\u001b[39;00m, dtype\u001b[38;5;241m=\u001b[39m\u001b[38;5;28;01mNone\u001b[39;00m, out\u001b[38;5;241m=\u001b[39m\u001b[38;5;28;01mNone\u001b[39;00m, keepdims\u001b[38;5;241m=\u001b[39m\u001b[38;5;28;01mFalse\u001b[39;00m,\n\u001b[0;32m     48\u001b[0m          initial\u001b[38;5;241m=\u001b[39m_NoValue, where\u001b[38;5;241m=\u001b[39m\u001b[38;5;28;01mTrue\u001b[39;00m):\n\u001b[1;32m---> 49\u001b[0m     \u001b[38;5;28;01mreturn\u001b[39;00m \u001b[43mumr_sum\u001b[49m\u001b[43m(\u001b[49m\u001b[43ma\u001b[49m\u001b[43m,\u001b[49m\u001b[43m \u001b[49m\u001b[43maxis\u001b[49m\u001b[43m,\u001b[49m\u001b[43m \u001b[49m\u001b[43mdtype\u001b[49m\u001b[43m,\u001b[49m\u001b[43m \u001b[49m\u001b[43mout\u001b[49m\u001b[43m,\u001b[49m\u001b[43m \u001b[49m\u001b[43mkeepdims\u001b[49m\u001b[43m,\u001b[49m\u001b[43m \u001b[49m\u001b[43minitial\u001b[49m\u001b[43m,\u001b[49m\u001b[43m \u001b[49m\u001b[43mwhere\u001b[49m\u001b[43m)\u001b[49m\n",
      "\u001b[1;31mTypeError\u001b[0m: can only concatenate str (not \"method\") to str"
     ]
    }
   ],
   "source": [
    "target_mean = df[\"ANCHO DE BANDA CONTRATADO 2014\"].mean()\n"
   ]
  },
  {
   "cell_type": "code",
   "execution_count": null,
   "metadata": {},
   "outputs": [
    {
     "data": {
      "application/vnd.jupyter.widget-view+json": {
       "model_id": "a20c01230afa46d7b627a9a7054af088",
       "version_major": 2,
       "version_minor": 0
      },
      "text/plain": [
       "                                             |          | [  0%]   00:00 -> (? left)"
      ]
     },
     "metadata": {},
     "output_type": "display_data"
    },
    {
     "name": "stdout",
     "output_type": "stream",
     "text": [
      "Report SWEETVIZ_REPORT.html was generated! NOTEBOOK/COLAB USERS: the web browser MAY not pop up, regardless, the report IS saved in your notebook/colab files.\n"
     ]
    }
   ],
   "source": [
    "report = sv.analyze(df)\n",
    "# report.show_html()"
   ]
  }
 ],
 "metadata": {
  "kernelspec": {
   "display_name": "DataClass",
   "language": "python",
   "name": "python3"
  },
  "language_info": {
   "codemirror_mode": {
    "name": "ipython",
    "version": 3
   },
   "file_extension": ".py",
   "mimetype": "text/x-python",
   "name": "python",
   "nbconvert_exporter": "python",
   "pygments_lexer": "ipython3",
   "version": "3.10.13"
  }
 },
 "nbformat": 4,
 "nbformat_minor": 2
}
