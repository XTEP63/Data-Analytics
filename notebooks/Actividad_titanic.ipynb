{
 "cells": [
  {
   "cell_type": "code",
   "execution_count": 3,
   "metadata": {},
   "outputs": [
    {
     "data": {
      "application/vnd.jupyter.widget-view+json": {
       "model_id": "acfaf3d893c342a4af45650704789180",
       "version_major": 2,
       "version_minor": 0
      },
      "text/plain": [
       "                                             |          | [  0%]   00:00 -> (? left)"
      ]
     },
     "metadata": {},
     "output_type": "display_data"
    },
    {
     "name": "stdout",
     "output_type": "stream",
     "text": [
      "Report SWEETVIZ_REPORT.html was generated! NOTEBOOK/COLAB USERS: the web browser MAY not pop up, regardless, the report IS saved in your notebook/colab files.\n"
     ]
    }
   ],
   "source": [
    "import pandas as pd \n",
    "import sweetviz as sv\n",
    "import seaborn as sns \n",
    "\n",
    "data = pd.read_csv(\"../data/raw/titanic/train.csv\")\n",
    "test = pd.read_csv(\"../data/raw/titanic/test.csv\")\n",
    "\n",
    "feature_config = sv.FeatureConfig(skip = \"PassengerId\")\n",
    "my_report = sv.compare([data, \"Training Data\"], [test, \"Test Data\"], \"Survived\", feature_config)\n",
    "my_report.show_html()"
   ]
  },
  {
   "cell_type": "markdown",
   "metadata": {},
   "source": [
    "1.¿Cuánto pasajeros murieron y sobrevivieron?\n",
    "Murierin 549\n",
    "Sobrevivieron 342\n",
    "\n",
    "2.¿Hubo alguien quien pagó demasiado por el boleto? (anomalías)\n",
    "Si hubo varias personas\n",
    "\n",
    "3.¿Cuál es la media, median y moda del costo del ticket?\n",
    "Moda = 8.05\n",
    "Media = 32.20\n",
    "Mediana = 14.4542\n",
    "\n",
    "4.¿Cuál es la varianza de las edades de los pasajeros?\n",
    "211\n",
    "\n",
    "5.¿Quién es más probable que sobreviva: ¿una mujer de 40 años, o un hombre de 70 años?\n",
    "La mujer\n",
    "\n",
    "6.¿Cómo se distribuyen las edades  (sobrevivió o murió) de las personas del Titanic?\n",
    "Tiene una distribucion con sesgo positivo, los que esta entre 20 años sn los que mas sobreviven \n",
    "\n",
    "7.¿Cómo se distribuyen los sexos  (sobrevivió o murió) de las personas del Titanic?\n",
    "De manera general las mujers sobreviven mas que los hombres "
   ]
  }
 ],
 "metadata": {
  "kernelspec": {
   "display_name": "DataClass",
   "language": "python",
   "name": "python3"
  },
  "language_info": {
   "codemirror_mode": {
    "name": "ipython",
    "version": 3
   },
   "file_extension": ".py",
   "mimetype": "text/x-python",
   "name": "python",
   "nbconvert_exporter": "python",
   "pygments_lexer": "ipython3",
   "version": "3.10.13"
  }
 },
 "nbformat": 4,
 "nbformat_minor": 2
}
